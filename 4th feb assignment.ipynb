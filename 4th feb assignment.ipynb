{
 "cells": [
  {
   "cell_type": "code",
   "execution_count": 1,
   "id": "213f99ba-d9d3-43b3-9bda-0f1173e9203b",
   "metadata": {},
   "outputs": [],
   "source": [
    "# Q1. Create a python program to sort the given list of tuples based on integer value using a\n",
    "# lambda function.\n",
    "#[('Sachin Tendulkar', 34357), ('Ricky Ponting', 27483), ('Jack Kallis', 25534), ('Virat Kohli', 24936)]"
   ]
  },
  {
   "cell_type": "code",
   "execution_count": 35,
   "id": "57288bdb-e702-440b-92d6-ac1ff6d5a268",
   "metadata": {},
   "outputs": [],
   "source": [
    "#Ans\n",
    "t=[('Sachin Tendulkar', 34357), ('Ricky Ponting', 27483), ('Jack Kallis', 25534), ('Virat Kohli', 24936)]"
   ]
  },
  {
   "cell_type": "code",
   "execution_count": null,
   "id": "2c303626-24e5-4f3a-9c4a-eed0bbfee19b",
   "metadata": {},
   "outputs": [],
   "source": []
  },
  {
   "cell_type": "code",
   "execution_count": 2,
   "id": "10c0e372-8e80-45dc-be2b-999c30787431",
   "metadata": {},
   "outputs": [],
   "source": [
    "# Q2. Write a Python Program to find the squares of all the numbers in the given list of integers using\n",
    "# lambda and map functions.\n",
    "# [1, 2, 3, 4, 5, 6, 7, 8, 9, 10]"
   ]
  },
  {
   "cell_type": "code",
   "execution_count": 3,
   "id": "a479ab51-7d5d-4b22-a659-4b8bf48f6ae9",
   "metadata": {},
   "outputs": [],
   "source": [
    "#Ans\n",
    "l=[1, 2, 3, 4, 5, 6, 7, 8, 9, 10]"
   ]
  },
  {
   "cell_type": "code",
   "execution_count": 5,
   "id": "feb90113-47ad-4c26-9c6d-bf21a771bff8",
   "metadata": {},
   "outputs": [
    {
     "data": {
      "text/plain": [
       "[1, 4, 9, 16, 25, 36, 49, 64, 81, 100]"
      ]
     },
     "execution_count": 5,
     "metadata": {},
     "output_type": "execute_result"
    }
   ],
   "source": [
    "list(map(lambda x:x**2,l))"
   ]
  },
  {
   "cell_type": "code",
   "execution_count": 6,
   "id": "cb291859-8eae-4684-809f-df5b8b24c1a0",
   "metadata": {},
   "outputs": [],
   "source": [
    "# Q3. Write a python program to convert the given list of integers into a tuple of strings. Use map and\n",
    "# lambda functions\n",
    "# Given String: [1, 2, 3, 4, 5, 6, 7, 8, 9, 10]\n",
    "# Expected output: ('1', '2', '3', '4', '5', '6', '7', '8', '9', '10')"
   ]
  },
  {
   "cell_type": "code",
   "execution_count": 7,
   "id": "369ff0f3-75f4-4afa-928e-bc49c589a2e2",
   "metadata": {},
   "outputs": [
    {
     "data": {
      "text/plain": [
       "['1', '2', '3', '4', '5', '6', '7', '8', '9', '10']"
      ]
     },
     "execution_count": 7,
     "metadata": {},
     "output_type": "execute_result"
    }
   ],
   "source": [
    "#Ans\n",
    "list(map(lambda x:str(x),l))"
   ]
  },
  {
   "cell_type": "code",
   "execution_count": 8,
   "id": "18bfbb0f-8ae8-4b08-b369-e27425e05b02",
   "metadata": {},
   "outputs": [],
   "source": [
    "# Q4. Write a python program using reduce function to compute the product of a list containing numbers\n",
    "# from 1 to 25."
   ]
  },
  {
   "cell_type": "code",
   "execution_count": 11,
   "id": "45e7e88f-4bd7-45b1-a6d9-974a8e04e8e8",
   "metadata": {},
   "outputs": [],
   "source": [
    "# Ans\n",
    "from functools import reduce"
   ]
  },
  {
   "cell_type": "code",
   "execution_count": 17,
   "id": "db6fe124-6cb0-452b-a7ec-c2cdd454847a",
   "metadata": {},
   "outputs": [],
   "source": [
    "l3=list(range(1,26,1))"
   ]
  },
  {
   "cell_type": "code",
   "execution_count": 18,
   "id": "a26d03c5-337c-4310-ac85-f1317472e974",
   "metadata": {},
   "outputs": [
    {
     "data": {
      "text/plain": [
       "15511210043330985984000000"
      ]
     },
     "execution_count": 18,
     "metadata": {},
     "output_type": "execute_result"
    }
   ],
   "source": [
    "reduce(lambda x,y : x*y,l3)"
   ]
  },
  {
   "cell_type": "code",
   "execution_count": 19,
   "id": "f8a746e6-6a11-4aa6-bd09-04a4800efa17",
   "metadata": {},
   "outputs": [],
   "source": [
    "# Q5. Write a python program to filter the numbers in a given list that are divisible by 2 and 3 using the\n",
    "# filter function.\n",
    "# [2, 3, 6, 9, 27, 60, 90, 120, 55, 46]"
   ]
  },
  {
   "cell_type": "code",
   "execution_count": 20,
   "id": "48d61ca2-c66a-4030-9db5-40dc778c812f",
   "metadata": {},
   "outputs": [],
   "source": [
    "# Ans\n",
    "l4=[2, 3, 6, 9, 27, 60, 90, 120, 55, 46]"
   ]
  },
  {
   "cell_type": "code",
   "execution_count": 28,
   "id": "820e3e73-cb5b-4c4c-b3aa-57586a8f7c6c",
   "metadata": {},
   "outputs": [
    {
     "data": {
      "text/plain": [
       "[6, 60, 90, 120]"
      ]
     },
     "execution_count": 28,
     "metadata": {},
     "output_type": "execute_result"
    }
   ],
   "source": [
    "list(filter(lambda x : x %2== 0 and x %3==0,l4))"
   ]
  },
  {
   "cell_type": "code",
   "execution_count": 29,
   "id": "0a646825-99ab-4c2c-9048-74dba89846f2",
   "metadata": {},
   "outputs": [],
   "source": [
    "# Q6. Write a python program to find palindromes in the given list of strings using lambda and filter\n",
    "# function.\n",
    "# ['python', 'php', 'aba', 'radar', 'level']"
   ]
  },
  {
   "cell_type": "code",
   "execution_count": 30,
   "id": "271a4af0-7067-456c-b2c1-4cc567311a04",
   "metadata": {},
   "outputs": [],
   "source": [
    "# Ans\n",
    "l5=['python', 'php', 'aba', 'radar', 'level']"
   ]
  },
  {
   "cell_type": "code",
   "execution_count": 34,
   "id": "ab2bbb43-f9e3-4f1f-ba32-f713f939975f",
   "metadata": {},
   "outputs": [
    {
     "data": {
      "text/plain": [
       "['php', 'aba', 'radar', 'level']"
      ]
     },
     "execution_count": 34,
     "metadata": {},
     "output_type": "execute_result"
    }
   ],
   "source": [
    "list(filter(lambda x : x[::-1]==x, l5))"
   ]
  },
  {
   "cell_type": "code",
   "execution_count": null,
   "id": "84a76566-c2e3-444c-a9c9-15d2eb082f6b",
   "metadata": {},
   "outputs": [],
   "source": []
  }
 ],
 "metadata": {
  "kernelspec": {
   "display_name": "Python 3 (ipykernel)",
   "language": "python",
   "name": "python3"
  },
  "language_info": {
   "codemirror_mode": {
    "name": "ipython",
    "version": 3
   },
   "file_extension": ".py",
   "mimetype": "text/x-python",
   "name": "python",
   "nbconvert_exporter": "python",
   "pygments_lexer": "ipython3",
   "version": "3.10.8"
  }
 },
 "nbformat": 4,
 "nbformat_minor": 5
}
